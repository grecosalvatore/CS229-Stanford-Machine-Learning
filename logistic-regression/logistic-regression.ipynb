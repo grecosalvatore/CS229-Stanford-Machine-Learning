{
 "cells": [
  {
   "cell_type": "markdown",
   "id": "appreciated-truck",
   "metadata": {},
   "source": [
    "# Logistic Regression\n",
    "Logistic Regression is an example of <b>supervised learning</b> and <b>binary classification problem</b>.\n",
    "* <b>Supervised Learning:</b> input dataset composed by input and labels $(x, y)$ and want to learn a mapping $x \\longrightarrow y$\n",
    "* <b>Classification:</b> the value $y$ to predict is discrete \n",
    "* <b>Binary classification</b> problem $y \\in \\{0, 1\\}$\n",
    "\n",
    "## Problem Formulation\n",
    "\n",
    "We want the hypothesis outputs value between 0 and 1 ( $h_\\theta(x) \\in [0,1] $ ).<br>\n",
    "Then, for the logistic regression, the hypothesis is:\n",
    "\n",
    "$$ h_\\theta(x) = g(\\theta^Tx) = \\frac{1}{1+e^{-\\theta^T x}} $$\n",
    "\n",
    "Assuming that:\n",
    "$$ P(y=1| x;\\theta) = h_\\theta(x)$$\n",
    "$$ P(y=0| x;\\theta) = 1 - h_\\theta(x)$$\n",
    "\n",
    "The two equation can be combined in one equation as follows: \n",
    "\n",
    "$$ P(y| x;\\theta) = h_\\theta(x)^y (1 - h_\\theta(x))^{1-y} $$\n",
    "\n",
    "* if $y=1 \\longrightarrow P(y| x;\\theta) = h_\\theta(x) $\n",
    "* if $y=0 \\longrightarrow P(y| x;\\theta) = 1-h_\\theta(x) $\n",
    "\n",
    "## Maximum Likelihood Estimation\n",
    "\n",
    "Using MLE:\n",
    "\\begin{align*}\n",
    "    \n",
    "\\end{align*}\n",
    "\n",
    "## Logistic Function or Sigmoid Function\n",
    "The function $g(z)$ is called logistic function or sigmoid function and outputs values between 0 and 1. <br>\n",
    "\n",
    "$$\n",
    "g(z) = \\frac{1}{1+e^{-z}}\n",
    "$$\n",
    "\n",
    "The derivates of the sigmoid function is:\n",
    "<br>\n",
    "$$\n",
    "\\begin{align}\n",
    "g'(z) & = \\frac{d}{dz} \\frac{1}{1+e^{-z}} \\\\\n",
    "      & = \\frac{d}{dz} (1+e^{-z})^{-1} \\\\\n",
    "      & = \\frac{1}{(1+e^{-z})^2}(e^{-z})\n",
    "\\end{align}\n",
    "$$"
   ]
  },
  {
   "cell_type": "code",
   "execution_count": null,
   "id": "medium-harassment",
   "metadata": {},
   "outputs": [],
   "source": []
  }
 ],
 "metadata": {
  "kernelspec": {
   "display_name": "Python 3",
   "language": "python",
   "name": "python3"
  },
  "language_info": {
   "codemirror_mode": {
    "name": "ipython",
    "version": 3
   },
   "file_extension": ".py",
   "mimetype": "text/x-python",
   "name": "python",
   "nbconvert_exporter": "python",
   "pygments_lexer": "ipython3",
   "version": "3.7.9"
  }
 },
 "nbformat": 4,
 "nbformat_minor": 5
}