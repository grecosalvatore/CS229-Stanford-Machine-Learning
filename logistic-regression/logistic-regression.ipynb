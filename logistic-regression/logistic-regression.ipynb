{
 "cells": [
  {
   "cell_type": "markdown",
   "id": "appreciated-truck",
   "metadata": {},
   "source": [
    "# Logistic Regression\n",
    "Logistic Regression is an example of <b>supervised learning</b> and <b>binary classification problem</b>.\n",
    "* <b>Supervised Learning:</b> input dataset composed by input and labels $(x, y)$ and want to learn a mapping $x \\longrightarrow y$\n",
    "* <b>Classification:</b> the value $y$ to predict is discrete (in this case 2)\n",
    "\n",
    "## Logistic Function or Sigmoid Function\n",
    "$$\n",
    "g(z) = \\frac{1}{1+e^{-z}}\n",
    "$$\n",
    "<br>\n",
    "$$\n",
    "\\begin{align}\n",
    "g'(z) & = \\frac{d}{dz} \\frac{1}{1+e^{-z}} \\\\\n",
    "      & = \\frac{d}{dz} (1+e^{-z})^{-1} \\\\\n",
    "      & = \\frac{1}{(1+e^{-z})^2}(e^{-z})\n",
    "\\end{align}\n",
    "$$"
   ]
  },
  {
   "cell_type": "code",
   "execution_count": null,
   "id": "medium-harassment",
   "metadata": {},
   "outputs": [],
   "source": []
  }
 ],
 "metadata": {
  "kernelspec": {
   "display_name": "Python 3",
   "language": "python",
   "name": "python3"
  },
  "language_info": {
   "codemirror_mode": {
    "name": "ipython",
    "version": 3
   },
   "file_extension": ".py",
   "mimetype": "text/x-python",
   "name": "python",
   "nbconvert_exporter": "python",
   "pygments_lexer": "ipython3",
   "version": "3.7.9"
  }
 },
 "nbformat": 4,
 "nbformat_minor": 5
}
