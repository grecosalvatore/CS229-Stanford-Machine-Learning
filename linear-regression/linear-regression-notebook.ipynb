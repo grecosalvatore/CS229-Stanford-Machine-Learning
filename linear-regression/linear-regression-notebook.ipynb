{
 "cells": [
  {
   "cell_type": "markdown",
   "metadata": {},
   "source": [
    "# Linear Regression"
   ]
  },
  {
   "cell_type": "markdown",
   "metadata": {},
   "source": [
    "## Problem Formulation\n",
    "\n",
    "* $m$ is the number of training examples \n",
    "* $nx$ is the number of input features\n",
    "* $n = nx+1$ is the actual number of features (obtained by adding an additional feature $x_0 = 1$)\n",
    "* $(x^{(i)},y^{(i)})$ is the <i>i-th</i> training example\n",
    "* $x^{(i)}_{j}$ is the <i>j-th</i> feature of the i-th training example\n",
    "\n",
    "$$ x^{(i)} = \\begin{bmatrix} x_1 \\\\ x_2 \\\\ \\vdots \\\\ x_{nx} \\end{bmatrix} \\rightarrow x^{(i)} = \\begin{bmatrix} x_0 \\\\ x_1 \\\\ \\vdots \\\\ x_{nx} \\end{bmatrix} \\ \\ , \\ \\ where \\ \\ \\ \\ x_0 = 1 \\rightarrow \\ \\ \\ x^{(i)} = \\begin{bmatrix} 1 \\\\ x_1 \\\\ \\vdots \\\\ x_{nx} \\end{bmatrix} \\ \\ , \\ \\ \\ \\ \\ \\ \\theta = \\begin{bmatrix} \\theta_0 \\\\ \\theta_1 \\\\ \\vdots \\\\ \\theta_{nx} \\end{bmatrix} \\\\\n",
    "x^{(i)} \\in \\mathbb{R}^n \\ \\ \\ \\ , \\ \\ \\ \\ \\theta \\in \\mathbb{R}^n \\ \\ \\ \\ , \\ \\ \\ \\ y^{(i)} \\in \\mathbb{R} $$"
   ]
  },
  {
   "cell_type": "code",
   "execution_count": 1,
   "metadata": {},
   "outputs": [
    {
     "ename": "SyntaxError",
     "evalue": "invalid syntax (<ipython-input-1-c2d4baa0919d>, line 1)",
     "output_type": "error",
     "traceback": [
      "\u001b[0;36m  File \u001b[0;32m\"<ipython-input-1-c2d4baa0919d>\"\u001b[0;36m, line \u001b[0;32m1\u001b[0m\n\u001b[0;31m    def init_weight(n, init_type=enumerate([\"RANDOM\", \"ZERO\"]))\u001b[0m\n\u001b[0m                                                               ^\u001b[0m\n\u001b[0;31mSyntaxError\u001b[0m\u001b[0;31m:\u001b[0m invalid syntax\n"
     ]
    }
   ],
   "source": [
    "def init_weight(n, init_type=enumerate([\"RANDOM\", \"ZERO\"]))\n",
    "    if init_type == \"RANDOM\":\n",
    "        # Initialize weights `theta` with random values\n",
    "        theta = np.random.rand(n, 1)\n",
    "    elif init_type == \"ZERO\":\n",
    "        # Initialize weights `theta` with zero values\n",
    "        theta = np.zeros((n, 1), dtype=float)\n",
    "    else:\n",
    "        # Default initiliziation is `zero`\n",
    "        theta = np.zeros((n, 1), dtype=float)\n",
    "    return theta"
   ]
  },
  {
   "cell_type": "markdown",
   "metadata": {},
   "source": [
    "## Hypothesis\n",
    "The hypothesis outpus a linear function of the input features:\n",
    "\n",
    "$$h_\\theta(x^{(i)}) = \\theta_0x_0^{(i)} + ... + \\theta_nx_n^{(i)} $$\n",
    "\n",
    "$$h_\\theta(x^{(i)}) = \\sum_{j = 1}^{n}\\theta_j x_j^{(i)} = \\theta^{T}x^{(i)} $$"
   ]
  },
  {
   "cell_type": "code",
   "execution_count": null,
   "metadata": {},
   "outputs": [],
   "source": [
    "def compute_hypothesis()"
   ]
  },
  {
   "cell_type": "code",
   "execution_count": 1,
   "metadata": {
    "pycharm": {
     "name": "#%%\n"
    }
   },
   "outputs": [],
   "source": [
    "from sklearn import datasets\n",
    "\n",
    "# Load the diabetes dataset\n",
    "diabetes_X, diabetes_y = datasets.load_diabetes(return_X_y=True)"
   ]
  },
  {
   "cell_type": "code",
   "execution_count": 2,
   "metadata": {
    "pycharm": {
     "name": "#%%\n"
    }
   },
   "outputs": [
    {
     "data": {
      "text/plain": [
       "(442, 10)"
      ]
     },
     "execution_count": 2,
     "metadata": {},
     "output_type": "execute_result"
    }
   ],
   "source": [
    "diabetes_X.shape"
   ]
  },
  {
   "cell_type": "code",
   "execution_count": 3,
   "metadata": {
    "pycharm": {
     "name": "#%%\n"
    }
   },
   "outputs": [
    {
     "data": {
      "text/plain": [
       "(442,)"
      ]
     },
     "execution_count": 3,
     "metadata": {},
     "output_type": "execute_result"
    }
   ],
   "source": [
    "diabetes_y.shape"
   ]
  },
  {
   "cell_type": "code",
   "execution_count": 10,
   "metadata": {
    "pycharm": {
     "name": "#%%\n"
    }
   },
   "outputs": [],
   "source": [
    "# Split the data into training/testing sets\n",
    "diabetes_X_train = diabetes_X[:-20]\n",
    "diabetes_X_test = diabetes_X[-20:]\n",
    "\n",
    "# Split the targets into training/testing sets\n",
    "diabetes_y_train = diabetes_y[:-20]\n",
    "diabetes_y_test = diabetes_y[-20:]"
   ]
  },
  {
   "cell_type": "markdown",
   "metadata": {},
   "source": [
    "## Cost Function\n",
    "The cost function measures \n",
    "$$ J(\\theta) = \\frac{1}{2}\\sum_{i = 1}^{m}(h_\\theta(x^{(i)}) - y^{(i)})^2$$"
   ]
  },
  {
   "cell_type": "markdown",
   "metadata": {},
   "source": [
    "## Update Rule \n",
    "\n",
    "$$ \\theta_j \\mathrel{\\mathop:}= \\theta_j - \\alpha \\frac{\\partial}{\\partial\\theta_j} J(\\theta) $$"
   ]
  },
  {
   "cell_type": "markdown",
   "metadata": {},
   "source": [
    "### Gradient\n",
    "\n",
    "$$ \\frac{\\partial}{\\partial\\theta_j} J(\\theta) = \\frac{\\partial}{\\partial\\theta_j} \\frac{1}{2}\\sum_{i = 1}^{m}(h_\\theta(x^{(i)}) - y^{(i)})^2  $$"
   ]
  },
  {
   "cell_type": "markdown",
   "metadata": {},
   "source": [
    "$$ \\begin{align} \\frac{\\partial}{\\partial\\theta_j} J(\\theta) & = \\frac{\\partial}{\\partial\\theta_j} \\frac{1}{2}(h_\\theta(x) - y)^2  \\\\ & = 2 \\cdot \\frac{1}{2} (h_\\theta(x) - y) \\cdot \\frac{\\partial}{\\partial\\theta_j} (h_\\theta(x) - y) \\\\ & = (h_\\theta(x) - y) \\cdot \\frac{\\partial}{\\partial\\theta_j} \\ (\\sum_{j = 1}^{n}\\theta_j x_j - y)  \\\\ & = (h_\\theta(x) - y)\\ x_j \\end{align} $$\n"
   ]
  },
  {
   "cell_type": "markdown",
   "metadata": {},
   "source": [
    "$$ \\theta_j \\mathrel{\\mathop:}= \\theta_j - \\alpha \\ (h_\\theta(x^{(i)}) - y^{(i)})\\ x_j^{(i)} $$"
   ]
  },
  {
   "cell_type": "markdown",
   "metadata": {},
   "source": [
    "$$ \\theta_j \\mathrel{\\mathop:}= \\theta_j - \\alpha \\ \\sum_{i = 1}^{m} (h_\\theta(x^{(i)}) - y^{(i)})\\ x_j^{(i)} $$"
   ]
  },
  {
   "cell_type": "markdown",
   "metadata": {},
   "source": [
    "## Vectorization"
   ]
  },
  {
   "cell_type": "markdown",
   "metadata": {},
   "source": [
    "### Input Representation\n",
    "\n",
    "$$ X = \\begin{bmatrix}\n",
    "\\newcommand*{\\horzbar}{\\rule[.5ex]{5ex}{0.5pt}}\n",
    "\\ \\ (x^{(1)})^T \\ \\ \\newcommand*{\\horzbar}{\\rule[.5ex]{5ex}{0.5pt}} \\\\\n",
    " \\newcommand*{\\horzbar}{\\rule[.5ex]{5ex}{0.5pt}} \\ \\ (x^{(2)})^T  \\ \\ \\newcommand*{\\horzbar}{\\rule[.5ex]{5ex}{0.5pt}} \\\\\n",
    "  \\vdots  \\\\\n",
    " \\newcommand*{\\horzbar}{\\rule[.5ex]{5ex}{0.5pt}} \\ \\ (x^{(m)})^T \\ \\ \\newcommand*{\\horzbar}{\\rule[.5ex]{5ex}{0.5pt}} \\\\\n",
    "\\end{bmatrix} \\ \\ \\ , \\ \\ \\ Y = \\begin{bmatrix} y^{(1)} \\\\ y^{(2)} \\\\ \\vdots \\\\ y^{(m)} \\end{bmatrix} \\ \\ \\ , \\ \\ \\ \\theta = \\begin{bmatrix} \\theta_{1} \\\\ \\theta_{2} \\\\ \\vdots \\\\ \\theta_{n} \\end{bmatrix}$$\n"
   ]
  },
  {
   "cell_type": "markdown",
   "metadata": {},
   "source": [
    "### Compute Hypothesis\n",
    "\n",
    "$$ \\begin{align} h_\\theta(X) = X \\theta  =  \\ & \\begin{bmatrix}\n",
    "\\newcommand*{\\horzbar}{\\rule[.5ex]{5ex}{0.5pt}}\n",
    "\\ \\ (x^{(1)})^T \\ \\ \\newcommand*{\\horzbar}{\\rule[.5ex]{5ex}{0.5pt}} \\\\\n",
    " \\newcommand*{\\horzbar}{\\rule[.5ex]{5ex}{0.5pt}} \\ \\ (x^{(2)})^T  \\ \\ \\newcommand*{\\horzbar}{\\rule[.5ex]{5ex}{0.5pt}} \\\\\n",
    "  \\vdots  \\\\\n",
    " \\newcommand*{\\horzbar}{\\rule[.5ex]{5ex}{0.5pt}} \\ \\ (x^{(m)})^T \\ \\ \\newcommand*{\\horzbar}{\\rule[.5ex]{5ex}{0.5pt}} \\\\\n",
    "\\end{bmatrix} \\cdot \\begin{bmatrix} \\theta_{1} \\\\ \\theta_{2} \\\\ \\vdots \\\\ \\theta_{n} \\end{bmatrix} = \\begin{bmatrix} h_{\\theta}(x^{(1)}) \\\\ h_{\\theta}(x^{(2)}) \\\\ \\vdots \\\\ h_{\\theta}(x^{(m)}) \\end{bmatrix}  \\\\ \\\\ &\n",
    " \\ \\ (m,n) \\ \\ \\cdot  \\ \\ (n,1) \\ \\ = \\ \\  (m,1) \\end{align} $$ "
   ]
  },
  {
   "cell_type": "markdown",
   "metadata": {},
   "source": [
    "$$ \\begin{align} J(\\theta) & = \\frac{1}{2} \\ (h_{\\theta}(X) - Y)^T \\ (h_{\\theta}(X) - Y) \\\\  & = \\frac{1}{2} \\ (X\\theta - Y)^T \\ (X\\theta - Y) \\end{align} $$ "
   ]
  },
  {
   "cell_type": "markdown",
   "metadata": {},
   "source": [
    "$$ \\begin{align} (X\\theta - Y) =  & \\begin{bmatrix} h_{\\theta}(x^{(1)}) - y^{(1)} \\\\ h_{\\theta}(x^{(2)}) - y^{(2)} \\\\ \\vdots \\\\ h_{\\theta}(x^{(m)}) - y^{(m)} \\end{bmatrix} \\\\ \\\\  & \\ \\ \\ \\ \\ \\ \\ \\ \\ \\ \\ (m,1) \\end{align}$$"
   ]
  },
  {
   "cell_type": "markdown",
   "metadata": {},
   "source": [
    "A row vector times a column vecotor gives a real number: \n",
    "$$ \\begin{align} (h_{\\theta}(X) - Y)^T \\ (h_{\\theta}(X) - Y) & =  \\begin{bmatrix} h_{\\theta}(x^{(1)}) - y^{(1)} \\ \\ \\ \\ \\ h_{\\theta}(x^{(2)}) - y^{(2)} \\ \\ \\ \\ \\ \\cdots \\ \\ \\ \\ \\ h_{\\theta}(x^{(m)}) - y^{(m)} \\end{bmatrix} \\cdot \\begin{bmatrix} h_{\\theta}(x^{(1)}) - y^{(1)} \\\\ h_{\\theta}(x^{(2)}) - y^{(2)} \\\\ \\vdots \\\\ h_{\\theta}(x^{(m)}) - y^{(m)} \\end{bmatrix} \\\\ & = \\sum_{i = 1}^{m} \\ (h_{\\theta}(x^{(i)}) - y^{(i)})^2 \\end{align} $$"
   ]
  },
  {
   "cell_type": "code",
   "execution_count": 1,
   "metadata": {},
   "outputs": [],
   "source": [
    "from sklearn import datasets\n",
    "\n",
    "# Load the diabetes dataset\n",
    "diabetes_X, diabetes_y = datasets.load_diabetes(return_X_y=True)"
   ]
  },
  {
   "cell_type": "code",
   "execution_count": 4,
   "metadata": {
    "scrolled": true
   },
   "outputs": [
    {
     "data": {
      "text/plain": [
       "(442, 10)"
      ]
     },
     "execution_count": 4,
     "metadata": {},
     "output_type": "execute_result"
    }
   ],
   "source": [
    "diabetes_X.shape"
   ]
  },
  {
   "cell_type": "code",
   "execution_count": 5,
   "metadata": {},
   "outputs": [
    {
     "data": {
      "text/plain": [
       "(442,)"
      ]
     },
     "execution_count": 5,
     "metadata": {},
     "output_type": "execute_result"
    }
   ],
   "source": [
    "diabetes_y.shape"
   ]
  },
  {
   "cell_type": "code",
   "execution_count": 6,
   "metadata": {},
   "outputs": [],
   "source": [
    "# Split the data into training/testing sets\n",
    "diabetes_X_train = diabetes_X[:-20]\n",
    "diabetes_X_test = diabetes_X[-20:]\n",
    "\n",
    "# Split the targets into training/testing sets\n",
    "diabetes_y_train = diabetes_y[:-20]\n",
    "diabetes_y_test = diabetes_y[-20:]"
   ]
  },
  {
   "cell_type": "code",
   "execution_count": null,
   "metadata": {},
   "outputs": [],
   "source": []
  }
 ],
 "metadata": {
  "kernelspec": {
   "display_name": "Python 3",
   "language": "python",
   "name": "python3"
  },
  "language_info": {
   "codemirror_mode": {
    "name": "ipython",
    "version": 3
   },
   "file_extension": ".py",
   "mimetype": "text/x-python",
   "name": "python",
   "nbconvert_exporter": "python",
   "pygments_lexer": "ipython3",
   "version": "3.7.9"
  }
 },
 "nbformat": 4,
 "nbformat_minor": 4
}
