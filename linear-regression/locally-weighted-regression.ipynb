{
 "cells": [
  {
   "cell_type": "markdown",
   "metadata": {
    "collapsed": true
   },
   "source": [
    "# Locally Weighted Linear Regression\n",
    "\n",
    "Locally weighted regression is an example of <b>non-parametric</b> learnign algorithm.\n",
    "\n",
    "* <b>Parametric Learning Algorithm</b>: Fit a fixed set of parameters to data. \n",
    "* <b>Non-Parametric Learning Algorithm</b>: The amount of data/parameters kept grows (linearly) with the size of data.\n",
    "\n",
    "In <b>Locally weighted regression</b>, in order to make a prediction:\n",
    "+ Fit $\\theta$ to minimize the cost function: $\\sum_i w^{(i)}(y^{(i)}-\\theta^T x^{(i)})^2$\n",
    "+ Ouput $\\theta^T x$\n",
    "\n",
    "Where $w^{(i)}$ is a <b>weight function</b>. \n",
    "A common choice for the weight function is: <br><br>\n",
    "$$\n",
    "w^{(i)} = exp \\Big(-\\frac{(x^{(i)}-x)^2}{2\\tau^2}\\Big)\n",
    "$$\n",
    "* If $ \\lvert x^{(i)} - x \\rvert$ is <b>small</b>, then $w^{(i)} \\approx 0$\n",
    "* If $ \\lvert x^{(i)} - x \\rvert$ is <b>large</b>, then $w^{(i)} \\approx 1$\n",
    "\n",
    "For this reason, when fit $\\theta$, you assign a weight value to one (pay attention) only to.<br>\n",
    "Where $\\tau$ is a <b>bandwidth parameter</b> that determines the shape of the bell-shaped curve.\n",
    "* A value of $\\tau$ too <b>small</b> can cause <b>overfitting</b>\n",
    "* A value of $\\tau$ too <b>large</b> can cause <b>underfitting</b>\n",
    "\n",
    "The <b>locally-weighted linear regression</b> algorithm is suitable with:\n",
    "1. Relatively <b>low dimensional</b> dataset (low number of features n)\n",
    "2. Large number of input examples (large number of inputs m)\n",
    "3. Not want to carefully choose the features to use"
   ]
  },
  {
   "cell_type": "code",
   "execution_count": 2,
   "metadata": {},
   "outputs": [],
   "source": [
    "import pandas as pd\n",
    "import numpy as np\n",
    "\n",
    "import os"
   ]
  },
  {
   "cell_type": "markdown",
   "metadata": {},
   "source": [
    "### Load Dataset"
   ]
  },
  {
   "cell_type": "code",
   "execution_count": 3,
   "metadata": {},
   "outputs": [],
   "source": [
    "DATASET_FOLDER = os.path.join(\"..\",\"datasets\",\"locally-weighted-regression-data\")"
   ]
  },
  {
   "cell_type": "code",
   "execution_count": 7,
   "metadata": {},
   "outputs": [],
   "source": [
    "df_train = pd.read_csv(os.path.join(DATASET_FOLDER, \"lwr_train.csv\"))\n",
    "df_valid = pd.read_csv(os.path.join(DATASET_FOLDER, \"lwr_valid.csv\"))\n",
    "df_test = pd.read_csv(os.path.join(DATASET_FOLDER, \"lwr_test.csv\"))"
   ]
  },
  {
   "cell_type": "code",
   "execution_count": 8,
   "metadata": {},
   "outputs": [
    {
     "data": {
      "text/html": [
       "<div>\n",
       "<style scoped>\n",
       "    .dataframe tbody tr th:only-of-type {\n",
       "        vertical-align: middle;\n",
       "    }\n",
       "\n",
       "    .dataframe tbody tr th {\n",
       "        vertical-align: top;\n",
       "    }\n",
       "\n",
       "    .dataframe thead th {\n",
       "        text-align: right;\n",
       "    }\n",
       "</style>\n",
       "<table border=\"1\" class=\"dataframe\">\n",
       "  <thead>\n",
       "    <tr style=\"text-align: right;\">\n",
       "      <th></th>\n",
       "      <th>x_1</th>\n",
       "      <th>y</th>\n",
       "    </tr>\n",
       "  </thead>\n",
       "  <tbody>\n",
       "    <tr>\n",
       "      <th>0</th>\n",
       "      <td>-4.029750</td>\n",
       "      <td>-0.420076</td>\n",
       "    </tr>\n",
       "    <tr>\n",
       "      <th>1</th>\n",
       "      <td>-2.524577</td>\n",
       "      <td>0.205268</td>\n",
       "    </tr>\n",
       "    <tr>\n",
       "      <th>2</th>\n",
       "      <td>2.794617</td>\n",
       "      <td>0.773794</td>\n",
       "    </tr>\n",
       "    <tr>\n",
       "      <th>3</th>\n",
       "      <td>1.695904</td>\n",
       "      <td>0.210476</td>\n",
       "    </tr>\n",
       "    <tr>\n",
       "      <th>4</th>\n",
       "      <td>-1.458392</td>\n",
       "      <td>0.858475</td>\n",
       "    </tr>\n",
       "  </tbody>\n",
       "</table>\n",
       "</div>"
      ],
      "text/plain": [
       "        x_1         y\n",
       "0 -4.029750 -0.420076\n",
       "1 -2.524577  0.205268\n",
       "2  2.794617  0.773794\n",
       "3  1.695904  0.210476\n",
       "4 -1.458392  0.858475"
      ]
     },
     "execution_count": 8,
     "metadata": {},
     "output_type": "execute_result"
    }
   ],
   "source": [
    "df_train.head()"
   ]
  },
  {
   "cell_type": "code",
   "execution_count": 9,
   "metadata": {},
   "outputs": [
    {
     "name": "stdout",
     "output_type": "stream",
     "text": [
      "Number of training exampels 300\n"
     ]
    }
   ],
   "source": [
    "print(\"Number of training exampels {}\".format(len(df_train)))"
   ]
  },
  {
   "cell_type": "markdown",
   "metadata": {},
   "source": [
    "It is almost impossible to engineering select features as linear, quadratic..."
   ]
  },
  {
   "cell_type": "code",
   "execution_count": 10,
   "metadata": {},
   "outputs": [
    {
     "data": {
      "text/plain": [
       "<AxesSubplot:xlabel='x_1', ylabel='y'>"
      ]
     },
     "execution_count": 10,
     "metadata": {},
     "output_type": "execute_result"
    },
    {
     "data": {
      "image/png": "[encoded data removed]",
      "text/plain": [
       "<Figure size 432x288 with 1 Axes>"
      ]
     },
     "metadata": {
      "needs_background": "light"
     },
     "output_type": "display_data"
    }
   ],
   "source": [
    "df_train.plot.scatter(\"x_1\",\"y\")"
   ]
  },
  {
   "cell_type": "code",
   "execution_count": 14,
   "metadata": {},
   "outputs": [
    {
     "data": {
      "text/plain": [
       "(300, 1)"
      ]
     },
     "execution_count": 14,
     "metadata": {},
     "output_type": "execute_result"
    }
   ],
   "source": [
    "X_train = np.array(df_train[\"x_1\"])\n",
    "X_train = X_train.reshape((X_train.shape[0], 1))\n",
    "X_train.shape"
   ]
  },
  {
   "cell_type": "code",
   "execution_count": 15,
   "metadata": {},
   "outputs": [
    {
     "data": {
      "text/plain": [
       "(300,)"
      ]
     },
     "execution_count": 15,
     "metadata": {},
     "output_type": "execute_result"
    }
   ],
   "source": [
    "Y_train =  np.array(df_train[\"y\"])\n",
    "Y_train.shape"
   ]
  },
  {
   "cell_type": "code",
   "execution_count": 18,
   "metadata": {},
   "outputs": [],
   "source": [
    "class LocallyWeightedRegression:\n",
    "    def __init__(self):\n",
    "        self.X = None\n",
    "        self.Y = None\n",
    "        return\n",
    "    \n",
    "    def fit(self, X, Y):\n",
    "        self.X = X\n",
    "        self.Y = Y\n",
    "        return\n",
    "    \n",
    "    def predict(X):\n",
    "        return"
   ]
  },
  {
   "cell_type": "code",
   "execution_count": 19,
   "metadata": {},
   "outputs": [],
   "source": [
    "LWR = LocallyWeightedRegression()\n",
    "\n",
    "LWR.fit(X_train, Y_train)"
   ]
  },
  {
   "cell_type": "code",
   "execution_count": null,
   "metadata": {},
   "outputs": [],
   "source": []
  }
 ],
 "metadata": {
  "kernelspec": {
   "display_name": "Python 3",
   "language": "python",
   "name": "python3"
  },
  "language_info": {
   "codemirror_mode": {
    "name": "ipython",
    "version": 3
   },
   "file_extension": ".py",
   "mimetype": "text/x-python",
   "name": "python",
   "nbconvert_exporter": "python",
   "pygments_lexer": "ipython3",
   "version": "3.7.9"
  }
 },
 "nbformat": 4,
 "nbformat_minor": 1
}
